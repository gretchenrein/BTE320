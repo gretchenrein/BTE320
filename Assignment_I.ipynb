{
  "nbformat": 4,
  "nbformat_minor": 0,
  "metadata": {
    "colab": {
      "provenance": [],
      "authorship_tag": "ABX9TyNgRYfsb28vduq64Tqm0cYe",
      "include_colab_link": true
    },
    "kernelspec": {
      "name": "python3",
      "display_name": "Python 3"
    },
    "language_info": {
      "name": "python"
    }
  },
  "cells": [
    {
      "cell_type": "markdown",
      "metadata": {
        "id": "view-in-github",
        "colab_type": "text"
      },
      "source": [
        "<a href=\"https://colab.research.google.com/github/gretchenrein/BTE320/blob/main/Assignment_I.ipynb\" target=\"_parent\"><img src=\"https://colab.research.google.com/assets/colab-badge.svg\" alt=\"Open In Colab\"/></a>"
      ]
    },
    {
      "cell_type": "markdown",
      "source": [
        "Mortgage Problem"
      ],
      "metadata": {
        "id": "RgAocKMMmDFf"
      }
    },
    {
      "cell_type": "code",
      "execution_count": null,
      "metadata": {
        "id": "mkZfDhGJguXo"
      },
      "outputs": [],
      "source": [
        "class Mortgage:\n",
        "  def __init__(self, amount, maturity, interest):\n",
        "    self.amount = amount\n",
        "    self.maturity = maturity\n",
        "    self.__interest = interest\n",
        "\n",
        "  def __str__(self):\n",
        "    return f'Mortgage info:\\n Initial loan amount: {self.amount}$\\n Maturity term: {self.maturity} years\\n Interest Rate: {self.interest}%'\n",
        "\n",
        "  def get_interest(self):\n",
        "    return self.__interest\n",
        "\n",
        "  def set_interest(self, newInterest):\n",
        "    if newInterest >= 0:\n",
        "      self.__interest = newInterest\n",
        "\n",
        "  def payment(self):\n",
        "    B = self.amount\n",
        "    r = self.__interest / 100\n",
        "    n = self.maturity * 12\n",
        "    return B * (r*(1+r)**n) / ((1+r)**n-1)"
      ]
    },
    {
      "cell_type": "markdown",
      "source": [
        "Calculator"
      ],
      "metadata": {
        "id": "KE1cPRZdlZ5v"
      }
    },
    {
      "cell_type": "code",
      "source": [
        "while True:\n",
        "  operator = input(\"Enter operation: \")\n",
        "\n",
        "  if operator == 'break':\n",
        "    break\n",
        "\n",
        "  num1 = float(input('Enter first number: '))\n",
        "  num2 = float(input('Enter second number: '))\n",
        "\n",
        "  if operator == \"+\":\n",
        "    print(f'{num1} + {num2} = {num1 + num2}')\n",
        "  elif operator == \"-\":\n",
        "    print(f'{num1} - {num2} = {num1 - num2}')\n",
        "  elif operator == \"*\":\n",
        "    print(f'{num1} * {num2} = {num1 * num2}')\n",
        "  elif operator == \"/\":\n",
        "    print(f'{num1} / {num2} = {num1 / num2}')\n",
        "  elif operator == \"//\":\n",
        "    print(f'{num1} // {num2} = {num1 // num2}')\n",
        "  elif operator == \"-\":\n",
        "    print(f'{num1} ** {num2} = {num1 ** num2}')\n",
        "  elif operator == \"%\":\n",
        "    print(f'{num1} modulo {num2} = {num1 % num2}')\n",
        "  else:\n",
        "    print(f'Invalid operator: \\'{operator}\\'')\n",
        "    continue"
      ],
      "metadata": {
        "id": "rphDUF-ekCec"
      },
      "execution_count": null,
      "outputs": []
    },
    {
      "cell_type": "markdown",
      "source": [
        "Populating a Dictionary with Two Variables"
      ],
      "metadata": {
        "id": "WclsDNv2lkvq"
      }
    },
    {
      "cell_type": "code",
      "source": [
        "months = {}\n",
        "\n",
        "numbers = [1,2,3,4,5,6,7,8,9,10,11,12]\n",
        "names = ['January', 'February', 'March', 'April', 'May', 'June', 'July', 'August', 'September', 'October', 'November', 'December']\n",
        "\n",
        "for i in range(len(numbers)):\n",
        "  months[numbers[i]] = names[i]\n",
        "\n",
        "print(months)"
      ],
      "metadata": {
        "colab": {
          "base_uri": "https://localhost:8080/"
        },
        "id": "FvwA7wwSh26e",
        "outputId": "97e223e3-3004-46d1-ddee-75200f677c90"
      },
      "execution_count": null,
      "outputs": [
        {
          "output_type": "stream",
          "name": "stdout",
          "text": [
            "{1: 'January', 2: 'February', 3: 'March', 4: 'April', 5: 'May', 6: 'June', 7: 'July', 8: 'August', 9: 'September', 10: 'October', 11: 'November', 12: 'December'}\n"
          ]
        }
      ]
    },
    {
      "cell_type": "markdown",
      "source": [
        "Date Program"
      ],
      "metadata": {
        "id": "ghAYZJtGmVUO"
      }
    },
    {
      "cell_type": "code",
      "source": [
        "date = input(\"Enter a date in the format DD/MM/YYYY: \")\n",
        "\n",
        "print(\"Day:\", date[0:2])\n",
        "print(\"Month:\", date[3:5])\n",
        "print(\"Year:\", date[6:10])\n"
      ],
      "metadata": {
        "id": "NSQASwMPmW3j",
        "colab": {
          "base_uri": "https://localhost:8080/"
        },
        "outputId": "54dc5d65-4813-4447-d539-59aedfe446d8"
      },
      "execution_count": null,
      "outputs": [
        {
          "output_type": "stream",
          "name": "stdout",
          "text": [
            "Enter a date in the format DD/MM/YYYY: 01/04/2012\n",
            "Day: 01\n",
            "Month: 04\n",
            "Year: 2012\n"
          ]
        }
      ]
    },
    {
      "cell_type": "markdown",
      "source": [
        "Deposit with Interest Rates"
      ],
      "metadata": {
        "id": "ykvgcuKLlVei"
      }
    },
    {
      "cell_type": "code",
      "source": [
        "deposit = 2000\n",
        "\n",
        "if deposit > 10000:\n",
        "  ir = 3.5\n",
        "if deposit > 1000 or deposit <= 10000:\n",
        "  ir = 3.25\n",
        "if deposit <= 1000:\n",
        "  ir = 3.0\n",
        "\n",
        "total = (1 + ir/100)*deposit\n",
        "print(total)"
      ],
      "metadata": {
        "id": "NjG94PU7kOhv"
      },
      "execution_count": null,
      "outputs": []
    },
    {
      "cell_type": "markdown",
      "source": [
        "List Creator"
      ],
      "metadata": {
        "id": "DTz1omRtliM4"
      }
    },
    {
      "cell_type": "code",
      "source": [
        "List = []\n",
        "while True:\n",
        "  userinput = int(input('Enter an integer to append to the list: '))\n",
        "  if userinput == 0:\n",
        "    break\n",
        "  List.append(userinput)\n",
        "  print(f'Here is your current list: {List}')\n",
        "\n",
        "print(f'Here is your list: {List}')"
      ],
      "metadata": {
        "colab": {
          "base_uri": "https://localhost:8080/"
        },
        "id": "djUXsbAyicaT",
        "outputId": "6e08e9a3-d30a-42b3-aad3-f4b7e0ceb141"
      },
      "execution_count": null,
      "outputs": [
        {
          "output_type": "stream",
          "name": "stdout",
          "text": [
            "Enter an integer to append to the list: 0\n",
            "Here is your list: []\n"
          ]
        }
      ]
    },
    {
      "cell_type": "markdown",
      "source": [
        "Rock-Paper-Scissors"
      ],
      "metadata": {
        "id": "Z69WBXFSlQUM"
      }
    },
    {
      "cell_type": "code",
      "source": [
        "import random\n",
        "\n",
        "user_choice = input(\"Enter your choice (rock, paper, or scissors): \")\n",
        "computer_choice = random.choice([\"rock\", \"paper\", \"scissors\"])\n",
        "\n",
        "print(f\"You chose: {user_choice}\")\n",
        "print(f\"Computer chose: {computer_choice}\")\n",
        "\n",
        "if user_choice == computer_choice:\n",
        "    print(\"It's a tie!\")\n",
        "elif (\n",
        "    (user_choice == \"rock\" and computer_choice == \"scissors\") or\n",
        "    (user_choice == \"paper\" and computer_choice == \"rock\") or\n",
        "    (user_choice == \"scissors\" and computer_choice == \"paper\")\n",
        "):\n",
        "    print(\"You win!\")\n",
        "else:\n",
        "    print(\"Computer wins!\")"
      ],
      "metadata": {
        "id": "TDBZb7c1kwyg"
      },
      "execution_count": null,
      "outputs": []
    },
    {
      "cell_type": "markdown",
      "source": [
        "Leap Year Calculation"
      ],
      "metadata": {
        "id": "7iVsFq6ElLdM"
      }
    },
    {
      "cell_type": "code",
      "source": [
        "year = int(input(\"Enter a year: \"))\n",
        "\n",
        "if (year % 4 == 0 and year % 100 != 0) or (year % 400 == 0):\n",
        "    print(f\"{year} is a leap year!\")\n",
        "else:\n",
        "    print(f\"{year} is not a leap year.\")"
      ],
      "metadata": {
        "id": "fLhwbjV-kxhM"
      },
      "execution_count": null,
      "outputs": []
    },
    {
      "cell_type": "markdown",
      "source": [
        "Movie Theater Problem"
      ],
      "metadata": {
        "id": "TivdrIO3luNo"
      }
    },
    {
      "cell_type": "code",
      "source": [
        "print(f'Ad$ Profit')\n",
        "\n",
        "init_attendees = 20\n",
        "fixed_cost = 200\n",
        "\n",
        "for advertising in range(0, 201, 25):\n",
        "  ad = float(advertising)\n",
        "  attendees = float(2*round(advertising**0.5) + init_attendees)\n",
        "  profit = float((attendees * 10) - advertising - fixed_cost)\n",
        "  print(f'{ad} ${profit}')\n"
      ],
      "metadata": {
        "colab": {
          "base_uri": "https://localhost:8080/"
        },
        "id": "1js-8NoBgv4S",
        "outputId": "a7171a8a-30b7-4c55-b5f2-2dcac6bfcea4"
      },
      "execution_count": null,
      "outputs": [
        {
          "output_type": "stream",
          "name": "stdout",
          "text": [
            "Ad$ Profit\n",
            "0.0 $0.0\n",
            "25.0 $75.0\n",
            "50.0 $90.0\n",
            "75.0 $105.0\n",
            "100.0 $100.0\n",
            "125.0 $95.0\n",
            "150.0 $90.0\n",
            "175.0 $85.0\n",
            "200.0 $80.0\n"
          ]
        }
      ]
    },
    {
      "cell_type": "markdown",
      "source": [
        "Parking Garage Problem"
      ],
      "metadata": {
        "id": "YaSIKaHWlqKD"
      }
    },
    {
      "cell_type": "code",
      "source": [
        "for hour in range(1,9):\n",
        "  fee = 5 + 2.5*hour\n",
        "  if fee < 10:\n",
        "    fee = 10.0\n",
        "  elif fee > 20:\n",
        "    fee = 20.0\n",
        "  print(f'{hour} ${fee}')"
      ],
      "metadata": {
        "colab": {
          "base_uri": "https://localhost:8080/"
        },
        "id": "6adLnTarhX5f",
        "outputId": "353aafb1-8726-4887-f09a-6dacc41d74ce"
      },
      "execution_count": null,
      "outputs": [
        {
          "output_type": "stream",
          "name": "stdout",
          "text": [
            "1 $10.0\n",
            "2 $10.0\n",
            "3 $12.5\n",
            "4 $15.0\n",
            "5 $17.5\n",
            "6 $20.0\n",
            "7 $20.0\n",
            "8 $20.0\n"
          ]
        }
      ]
    }
  ]
}