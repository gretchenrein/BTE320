{
  "cells": [
    {
      "cell_type": "markdown",
      "metadata": {
        "id": "view-in-github",
        "colab_type": "text"
      },
      "source": [
        "<a href=\"https://colab.research.google.com/github/gretchenrein/BTE320/blob/main/Assignments.ipynb\" target=\"_parent\"><img src=\"https://colab.research.google.com/assets/colab-badge.svg\" alt=\"Open In Colab\"/></a>"
      ]
    },
    {
      "cell_type": "markdown",
      "metadata": {
        "id": "Cr3opmaEOGGj"
      },
      "source": [
        "Assignment 1"
      ]
    },
    {
      "cell_type": "code",
      "execution_count": null,
      "metadata": {
        "colab": {
          "base_uri": "https://localhost:8080/",
          "height": 638
        },
        "id": "HVAovMZzOC-j",
        "outputId": "71d49cd4-fd91-4bcc-a3c9-a19923d26831"
      },
      "outputs": [
        {
          "name": "stdout",
          "output_type": "stream",
          "text": [
            "Requirement already satisfied: ColabTurtlePlus in /usr/local/lib/python3.10/dist-packages (2.0.1)\n"
          ]
        },
        {
          "data": {
            "text/html": [
              "\n",
              "      <svg width=\"800\" height=\"600\">  \n",
              "        <rect width=\"100%\" height=\"100%\" style=\"fill:white;stroke:;stroke-width:1\"/>\n",
              "        \n",
              "        \n",
              "        <path fill-rule=\"evenodd\" fill-opacity=\"1\" d=\"M 400.0 300.0  L 500.0 300.0  L 500.0 200.0  L 400.0 200.0  L 400.0 300.0 \" stroke-linecap=\"round\" style=\"stroke:black;stroke-width:1\" fill=\"green\" />\n",
              "        \n",
              "        \n",
              "        <g id=\"classic\" visibility=\"visible\" transform=\"rotate(-90,400.0,300.0) translate(400.0, 300.0)\">\n",
              "<polygon points=\"-5,-4.5 0,-2.5 5,-4.5 0,4.5\" transform=\"skewX(0) scale(1,1)\" style=\"stroke:black;fill:green;stroke-width:1\" />\n",
              "</g>\n",
              "      </svg>\n",
              "    "
            ],
            "text/plain": [
              "<IPython.core.display.HTML object>"
            ]
          },
          "metadata": {},
          "output_type": "display_data"
        }
      ],
      "source": [
        "!pip install ColabTurtlePlus\n",
        "\n",
        "from ColabTurtlePlus.Turtle import *\n",
        "\n",
        "clearscreen()\n",
        "\n",
        "color('black','green')\n",
        "begin_fill()\n",
        "\n",
        "for i in range(4):\n",
        "  forward(100)\n",
        "  left(90)\n",
        "\n",
        "\n",
        "end_fill()"
      ]
    },
    {
      "cell_type": "markdown",
      "metadata": {
        "id": "XNR6mdayXR9m"
      },
      "source": [
        "Assignment 2"
      ]
    },
    {
      "cell_type": "code",
      "execution_count": null,
      "metadata": {
        "colab": {
          "background_save": true,
          "base_uri": "https://localhost:8080/"
        },
        "id": "Y5iOTESIOMWt",
        "outputId": "3bb15e0a-367a-4e30-f114-df1b7748feeb"
      },
      "outputs": [
        {
          "name": "stdout",
          "output_type": "stream",
          "text": [
            "GDP = 19.39 trillion $\n"
          ]
        }
      ],
      "source": [
        "allData = {\n",
        "    'US': {'pop': 325.7, 'gdp': 19.39, 'ccy': 'USD', 'fx': 1.0},\n",
        "    'CA': {'pop': 36.5, 'gdp': 1.65, 'ccy': 'CAD', 'fx': 1.35},\n",
        "    'MX': {'pop': 129.2, 'gdp': 1.15, 'ccy': 'MXN', 'fx': 19.86}\n",
        "}\n",
        "\n",
        "while True:\n",
        "  country_code = input('Enter country code (or type exit if you want to stop): ')\n",
        "  if country_code == 'exit':\n",
        "    break\n",
        "    if country_code not in allData.keys():\n",
        "      print('This country code does not exist.')\n",
        "      continue\n",
        "  statistic = input('Enter a statistic: ')\n",
        "  if statistic not in allData[country_code].keys():\n",
        "    print('Invalid statistic.')\n",
        "    continue\n",
        "\n",
        "  if statistic == 'pop':\n",
        "    print(f'Popoulation = {allData[country_code][statistic]} million people')\n",
        "  elif statistic == 'gdp':\n",
        "    print(f'GDP = {allData[country_code][statistic]} trillion $')\n",
        "  elif statistic == 'ccy':\n",
        "    print(f'Currency = {allData[country_code][statistic]}')"
      ]
    },
    {
      "cell_type": "markdown",
      "source": [
        "Assignment 3"
      ],
      "metadata": {
        "id": "dwjPHZQ9CP_8"
      }
    },
    {
      "cell_type": "code",
      "execution_count": 3,
      "metadata": {
        "id": "V8GvDyWJcXNX",
        "colab": {
          "base_uri": "https://localhost:8080/"
        },
        "outputId": "5a250094-ec84-430e-bcb0-964dcebaed8f"
      },
      "outputs": [
        {
          "output_type": "stream",
          "name": "stdout",
          "text": [
            "Enter number of hours parked: 6\n",
            "Total fee: $15.0\n"
          ]
        }
      ],
      "source": [
        "def getParkingHours():\n",
        "  return int(input('Enter number of hours parked: '))\n",
        "\n",
        "def calcParkingFee():\n",
        "  fee = 2.50 * getParkingHours()\n",
        "  if fee <= 6:\n",
        "    return 6\n",
        "  elif fee >= 20:\n",
        "    return 20\n",
        "  else:\n",
        "    return fee\n",
        "\n",
        "fee = calcParkingFee()\n",
        "print(f'Total fee: ${fee}')"
      ]
    },
    {
      "cell_type": "markdown",
      "metadata": {
        "id": "PuZ11_cYbasY"
      },
      "source": [
        "Assignment 4"
      ]
    },
    {
      "cell_type": "code",
      "execution_count": null,
      "metadata": {
        "colab": {
          "base_uri": "https://localhost:8080/"
        },
        "id": "1c7hucU7XUdu",
        "outputId": "8c3c71a1-aee1-4d69-85cb-99f89a84239f"
      },
      "outputs": [
        {
          "name": "stdout",
          "output_type": "stream",
          "text": [
            "Enter number of credits: 5\n",
            "Tuition = $9700\n"
          ]
        }
      ],
      "source": [
        "def calcTuition(credits):\n",
        "  if credits >= 12:\n",
        "    print(f'Tuition = $20,000')\n",
        "  elif credits < 12 and credits >= 1:\n",
        "    tuition = credits * 1200\n",
        "    tuition = 1200 + tuition\n",
        "    print(f'Tuition = ${1200 + 1700 * credits}')\n",
        "  else:\n",
        "    print(f'Invalid number of credits: {credits}')\n",
        "\n",
        "credits = int(input('Enter number of credits: '))\n",
        "calcTuition(credits)\n",
        "\n"
      ]
    }
  ],
  "metadata": {
    "colab": {
      "provenance": [],
      "authorship_tag": "ABX9TyOMoDHRlBw3/h5RtkapHmLG",
      "include_colab_link": true
    },
    "kernelspec": {
      "display_name": "Python 3",
      "name": "python3"
    },
    "language_info": {
      "name": "python"
    }
  },
  "nbformat": 4,
  "nbformat_minor": 0
}